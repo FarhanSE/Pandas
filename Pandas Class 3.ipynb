{
 "cells": [
  {
   "cell_type": "code",
   "execution_count": 1,
   "metadata": {},
   "outputs": [],
   "source": [
    "import numpy as np\n",
    "import pandas as pd\n",
    "import pandas_datareader.data as web"
   ]
  },
  {
   "cell_type": "code",
   "execution_count": 9,
   "metadata": {},
   "outputs": [],
   "source": [
    "all_data = {ticker: web.get_data_yahoo(ticker) for ticker in ['AAPL', 'IBM','MSFT','GOOG' ]}"
   ]
  },
  {
   "cell_type": "code",
   "execution_count": 10,
   "metadata": {},
   "outputs": [
    {
     "data": {
      "text/plain": [
       "{'AAPL':                   High         Low  ...       Volume   Adj Close\n",
       " Date                                ...                         \n",
       " 2016-01-27   24.157499   23.334999  ...  533478800.0   21.637739\n",
       " 2016-01-28   23.629999   23.097500  ...  222715200.0   21.792925\n",
       " 2016-01-29   24.334999   23.587500  ...  257666000.0   22.545681\n",
       " 2016-02-01   24.177500   23.850000  ...  163774000.0   22.334911\n",
       " 2016-02-02   24.010000   23.570000  ...  149428800.0   21.883259\n",
       " ...                ...         ...  ...          ...         ...\n",
       " 2021-01-19  128.710007  126.940002  ...   90757300.0  127.830002\n",
       " 2021-01-20  132.490005  128.550003  ...  104319500.0  132.029999\n",
       " 2021-01-21  139.669998  133.589996  ...  120529500.0  136.869995\n",
       " 2021-01-22  139.850006  135.020004  ...  113907200.0  139.070007\n",
       " 2021-01-25  145.089996  136.539993  ...  157282400.0  142.919998\n",
       " \n",
       " [1258 rows x 6 columns],\n",
       " 'IBM':                   High         Low  ...      Volume   Adj Close\n",
       " Date                                ...                        \n",
       " 2016-01-27  123.370003  120.650002  ...   5026400.0   97.300804\n",
       " 2016-01-28  122.830002  121.010002  ...   3942500.0   98.314354\n",
       " 2016-01-29  124.790001  122.959999  ...   8248100.0  100.381676\n",
       " 2016-02-01  125.290001  123.709999  ...   3574900.0  100.413864\n",
       " 2016-02-02  124.139999  122.639999  ...   3287300.0   98.893547\n",
       " ...                ...         ...  ...         ...         ...\n",
       " 2021-01-19  129.589996  128.089996  ...   5398000.0  129.020004\n",
       " 2021-01-20  131.059998  128.559998  ...   5598700.0  130.080002\n",
       " 2021-01-21  132.240005  130.050003  ...  12819200.0  131.649994\n",
       " 2021-01-22  120.699997  117.360001  ...  38031500.0  118.610001\n",
       " 2021-01-25  119.540001  117.449997  ...  13681800.0  118.580002\n",
       " \n",
       " [1258 rows x 6 columns],\n",
       " 'MSFT':                   High         Low  ...      Volume   Adj Close\n",
       " Date                                ...                        \n",
       " 2016-01-27   52.200001   51.020000  ...  36775200.0   46.739880\n",
       " 2016-01-28   52.209999   51.250000  ...  62513800.0   47.506405\n",
       " 2016-01-29   55.090000   54.000000  ...  83611700.0   50.271385\n",
       " 2016-02-01   55.090000   54.500000  ...  44208500.0   49.924614\n",
       " 2016-02-02   54.259998   52.650002  ...  56313800.0   48.364185\n",
       " ...                ...         ...  ...         ...         ...\n",
       " 2021-01-19  216.979996  212.630005  ...  30480900.0  216.440002\n",
       " 2021-01-20  225.789993  217.289993  ...  37777300.0  224.339996\n",
       " 2021-01-21  226.300003  222.419998  ...  30749600.0  224.970001\n",
       " 2021-01-22  230.070007  225.800003  ...  30124900.0  225.949997\n",
       " 2021-01-25  229.779999  224.220001  ...  33113100.0  229.529999\n",
       " \n",
       " [1258 rows x 6 columns],\n",
       " 'GOOG':                    High          Low  ...   Volume    Adj Close\n",
       " Date                                  ...                      \n",
       " 2016-01-27   718.234985   694.390015  ...  2194200   699.989990\n",
       " 2016-01-28   733.690002   712.349976  ...  2676400   730.960022\n",
       " 2016-01-29   744.989990   726.799988  ...  3474300   742.950012\n",
       " 2016-02-01   757.859985   743.270020  ...  5139200   752.000000\n",
       " 2016-02-02   789.869995   764.650024  ...  6348100   764.650024\n",
       " ...                 ...          ...  ...      ...          ...\n",
       " 2021-01-19  1809.275024  1741.459961  ...  1734600  1790.859985\n",
       " 2021-01-20  1903.709961  1825.530029  ...  2490300  1886.900024\n",
       " 2021-01-21  1934.859985  1887.109985  ...  2063900  1891.250000\n",
       " 2021-01-22  1910.949951  1881.760010  ...  1272100  1901.050049\n",
       " 2021-01-25  1929.579956  1867.530029  ...  1926800  1899.400024\n",
       " \n",
       " [1258 rows x 6 columns]}"
      ]
     },
     "execution_count": 10,
     "metadata": {},
     "output_type": "execute_result"
    }
   ],
   "source": [
    "all_data"
   ]
  },
  {
   "cell_type": "code",
   "execution_count": 11,
   "metadata": {},
   "outputs": [
    {
     "data": {
      "text/html": [
       "<div>\n",
       "<style scoped>\n",
       "    .dataframe tbody tr th:only-of-type {\n",
       "        vertical-align: middle;\n",
       "    }\n",
       "\n",
       "    .dataframe tbody tr th {\n",
       "        vertical-align: top;\n",
       "    }\n",
       "\n",
       "    .dataframe thead th {\n",
       "        text-align: right;\n",
       "    }\n",
       "</style>\n",
       "<table border=\"1\" class=\"dataframe\">\n",
       "  <thead>\n",
       "    <tr style=\"text-align: right;\">\n",
       "      <th></th>\n",
       "      <th>High</th>\n",
       "      <th>Low</th>\n",
       "      <th>Open</th>\n",
       "      <th>Close</th>\n",
       "      <th>Volume</th>\n",
       "      <th>Adj Close</th>\n",
       "    </tr>\n",
       "    <tr>\n",
       "      <th>Date</th>\n",
       "      <th></th>\n",
       "      <th></th>\n",
       "      <th></th>\n",
       "      <th></th>\n",
       "      <th></th>\n",
       "      <th></th>\n",
       "    </tr>\n",
       "  </thead>\n",
       "  <tbody>\n",
       "    <tr>\n",
       "      <th>2016-01-27</th>\n",
       "      <td>718.234985</td>\n",
       "      <td>694.390015</td>\n",
       "      <td>713.669983</td>\n",
       "      <td>699.989990</td>\n",
       "      <td>2194200</td>\n",
       "      <td>699.989990</td>\n",
       "    </tr>\n",
       "    <tr>\n",
       "      <th>2016-01-28</th>\n",
       "      <td>733.690002</td>\n",
       "      <td>712.349976</td>\n",
       "      <td>722.219971</td>\n",
       "      <td>730.960022</td>\n",
       "      <td>2676400</td>\n",
       "      <td>730.960022</td>\n",
       "    </tr>\n",
       "    <tr>\n",
       "      <th>2016-01-29</th>\n",
       "      <td>744.989990</td>\n",
       "      <td>726.799988</td>\n",
       "      <td>731.530029</td>\n",
       "      <td>742.950012</td>\n",
       "      <td>3474300</td>\n",
       "      <td>742.950012</td>\n",
       "    </tr>\n",
       "    <tr>\n",
       "      <th>2016-02-01</th>\n",
       "      <td>757.859985</td>\n",
       "      <td>743.270020</td>\n",
       "      <td>750.460022</td>\n",
       "      <td>752.000000</td>\n",
       "      <td>5139200</td>\n",
       "      <td>752.000000</td>\n",
       "    </tr>\n",
       "    <tr>\n",
       "      <th>2016-02-02</th>\n",
       "      <td>789.869995</td>\n",
       "      <td>764.650024</td>\n",
       "      <td>784.500000</td>\n",
       "      <td>764.650024</td>\n",
       "      <td>6348100</td>\n",
       "      <td>764.650024</td>\n",
       "    </tr>\n",
       "    <tr>\n",
       "      <th>...</th>\n",
       "      <td>...</td>\n",
       "      <td>...</td>\n",
       "      <td>...</td>\n",
       "      <td>...</td>\n",
       "      <td>...</td>\n",
       "      <td>...</td>\n",
       "    </tr>\n",
       "    <tr>\n",
       "      <th>2021-01-19</th>\n",
       "      <td>1809.275024</td>\n",
       "      <td>1741.459961</td>\n",
       "      <td>1752.250000</td>\n",
       "      <td>1790.859985</td>\n",
       "      <td>1734600</td>\n",
       "      <td>1790.859985</td>\n",
       "    </tr>\n",
       "    <tr>\n",
       "      <th>2021-01-20</th>\n",
       "      <td>1903.709961</td>\n",
       "      <td>1825.530029</td>\n",
       "      <td>1831.459961</td>\n",
       "      <td>1886.900024</td>\n",
       "      <td>2490300</td>\n",
       "      <td>1886.900024</td>\n",
       "    </tr>\n",
       "    <tr>\n",
       "      <th>2021-01-21</th>\n",
       "      <td>1934.859985</td>\n",
       "      <td>1887.109985</td>\n",
       "      <td>1898.000000</td>\n",
       "      <td>1891.250000</td>\n",
       "      <td>2063900</td>\n",
       "      <td>1891.250000</td>\n",
       "    </tr>\n",
       "    <tr>\n",
       "      <th>2021-01-22</th>\n",
       "      <td>1910.949951</td>\n",
       "      <td>1881.760010</td>\n",
       "      <td>1895.680054</td>\n",
       "      <td>1901.050049</td>\n",
       "      <td>1272100</td>\n",
       "      <td>1901.050049</td>\n",
       "    </tr>\n",
       "    <tr>\n",
       "      <th>2021-01-25</th>\n",
       "      <td>1929.579956</td>\n",
       "      <td>1867.530029</td>\n",
       "      <td>1920.670044</td>\n",
       "      <td>1899.400024</td>\n",
       "      <td>1926800</td>\n",
       "      <td>1899.400024</td>\n",
       "    </tr>\n",
       "  </tbody>\n",
       "</table>\n",
       "<p>1258 rows × 6 columns</p>\n",
       "</div>"
      ],
      "text/plain": [
       "                   High          Low  ...   Volume    Adj Close\n",
       "Date                                  ...                      \n",
       "2016-01-27   718.234985   694.390015  ...  2194200   699.989990\n",
       "2016-01-28   733.690002   712.349976  ...  2676400   730.960022\n",
       "2016-01-29   744.989990   726.799988  ...  3474300   742.950012\n",
       "2016-02-01   757.859985   743.270020  ...  5139200   752.000000\n",
       "2016-02-02   789.869995   764.650024  ...  6348100   764.650024\n",
       "...                 ...          ...  ...      ...          ...\n",
       "2021-01-19  1809.275024  1741.459961  ...  1734600  1790.859985\n",
       "2021-01-20  1903.709961  1825.530029  ...  2490300  1886.900024\n",
       "2021-01-21  1934.859985  1887.109985  ...  2063900  1891.250000\n",
       "2021-01-22  1910.949951  1881.760010  ...  1272100  1901.050049\n",
       "2021-01-25  1929.579956  1867.530029  ...  1926800  1899.400024\n",
       "\n",
       "[1258 rows x 6 columns]"
      ]
     },
     "execution_count": 11,
     "metadata": {},
     "output_type": "execute_result"
    }
   ],
   "source": [
    "all_data['GOOG']"
   ]
  },
  {
   "cell_type": "code",
   "execution_count": 17,
   "metadata": {},
   "outputs": [],
   "source": [
    "price = pd.DataFrame({ticker: data['Adj Close'] for (ticker,data) in all_data.items()})"
   ]
  },
  {
   "cell_type": "code",
   "execution_count": 22,
   "metadata": {},
   "outputs": [
    {
     "data": {
      "text/html": [
       "<div>\n",
       "<style scoped>\n",
       "    .dataframe tbody tr th:only-of-type {\n",
       "        vertical-align: middle;\n",
       "    }\n",
       "\n",
       "    .dataframe tbody tr th {\n",
       "        vertical-align: top;\n",
       "    }\n",
       "\n",
       "    .dataframe thead th {\n",
       "        text-align: right;\n",
       "    }\n",
       "</style>\n",
       "<table border=\"1\" class=\"dataframe\">\n",
       "  <thead>\n",
       "    <tr style=\"text-align: right;\">\n",
       "      <th></th>\n",
       "      <th>AAPL</th>\n",
       "      <th>IBM</th>\n",
       "      <th>MSFT</th>\n",
       "      <th>GOOG</th>\n",
       "    </tr>\n",
       "    <tr>\n",
       "      <th>Date</th>\n",
       "      <th></th>\n",
       "      <th></th>\n",
       "      <th></th>\n",
       "      <th></th>\n",
       "    </tr>\n",
       "  </thead>\n",
       "  <tbody>\n",
       "    <tr>\n",
       "      <th>2016-01-27</th>\n",
       "      <td>21.637739</td>\n",
       "      <td>97.300804</td>\n",
       "      <td>46.739880</td>\n",
       "      <td>699.989990</td>\n",
       "    </tr>\n",
       "    <tr>\n",
       "      <th>2016-01-28</th>\n",
       "      <td>21.792925</td>\n",
       "      <td>98.314354</td>\n",
       "      <td>47.506405</td>\n",
       "      <td>730.960022</td>\n",
       "    </tr>\n",
       "    <tr>\n",
       "      <th>2016-01-29</th>\n",
       "      <td>22.545681</td>\n",
       "      <td>100.381676</td>\n",
       "      <td>50.271385</td>\n",
       "      <td>742.950012</td>\n",
       "    </tr>\n",
       "    <tr>\n",
       "      <th>2016-02-01</th>\n",
       "      <td>22.334911</td>\n",
       "      <td>100.413864</td>\n",
       "      <td>49.924614</td>\n",
       "      <td>752.000000</td>\n",
       "    </tr>\n",
       "    <tr>\n",
       "      <th>2016-02-02</th>\n",
       "      <td>21.883259</td>\n",
       "      <td>98.893547</td>\n",
       "      <td>48.364185</td>\n",
       "      <td>764.650024</td>\n",
       "    </tr>\n",
       "  </tbody>\n",
       "</table>\n",
       "</div>"
      ],
      "text/plain": [
       "                 AAPL         IBM       MSFT        GOOG\n",
       "Date                                                    \n",
       "2016-01-27  21.637739   97.300804  46.739880  699.989990\n",
       "2016-01-28  21.792925   98.314354  47.506405  730.960022\n",
       "2016-01-29  22.545681  100.381676  50.271385  742.950012\n",
       "2016-02-01  22.334911  100.413864  49.924614  752.000000\n",
       "2016-02-02  21.883259   98.893547  48.364185  764.650024"
      ]
     },
     "execution_count": 22,
     "metadata": {},
     "output_type": "execute_result"
    }
   ],
   "source": [
    "price.head()"
   ]
  },
  {
   "cell_type": "code",
   "execution_count": 19,
   "metadata": {},
   "outputs": [],
   "source": [
    "volum = pd.DataFrame({ticker:data['Volume']   for (ticker,data) in all_data.items()})"
   ]
  },
  {
   "cell_type": "code",
   "execution_count": 21,
   "metadata": {},
   "outputs": [
    {
     "data": {
      "text/html": [
       "<div>\n",
       "<style scoped>\n",
       "    .dataframe tbody tr th:only-of-type {\n",
       "        vertical-align: middle;\n",
       "    }\n",
       "\n",
       "    .dataframe tbody tr th {\n",
       "        vertical-align: top;\n",
       "    }\n",
       "\n",
       "    .dataframe thead th {\n",
       "        text-align: right;\n",
       "    }\n",
       "</style>\n",
       "<table border=\"1\" class=\"dataframe\">\n",
       "  <thead>\n",
       "    <tr style=\"text-align: right;\">\n",
       "      <th></th>\n",
       "      <th>AAPL</th>\n",
       "      <th>IBM</th>\n",
       "      <th>MSFT</th>\n",
       "      <th>GOOG</th>\n",
       "    </tr>\n",
       "    <tr>\n",
       "      <th>Date</th>\n",
       "      <th></th>\n",
       "      <th></th>\n",
       "      <th></th>\n",
       "      <th></th>\n",
       "    </tr>\n",
       "  </thead>\n",
       "  <tbody>\n",
       "    <tr>\n",
       "      <th>2016-01-27</th>\n",
       "      <td>533478800.0</td>\n",
       "      <td>5026400.0</td>\n",
       "      <td>36775200.0</td>\n",
       "      <td>2194200</td>\n",
       "    </tr>\n",
       "    <tr>\n",
       "      <th>2016-01-28</th>\n",
       "      <td>222715200.0</td>\n",
       "      <td>3942500.0</td>\n",
       "      <td>62513800.0</td>\n",
       "      <td>2676400</td>\n",
       "    </tr>\n",
       "    <tr>\n",
       "      <th>2016-01-29</th>\n",
       "      <td>257666000.0</td>\n",
       "      <td>8248100.0</td>\n",
       "      <td>83611700.0</td>\n",
       "      <td>3474300</td>\n",
       "    </tr>\n",
       "    <tr>\n",
       "      <th>2016-02-01</th>\n",
       "      <td>163774000.0</td>\n",
       "      <td>3574900.0</td>\n",
       "      <td>44208500.0</td>\n",
       "      <td>5139200</td>\n",
       "    </tr>\n",
       "    <tr>\n",
       "      <th>2016-02-02</th>\n",
       "      <td>149428800.0</td>\n",
       "      <td>3287300.0</td>\n",
       "      <td>56313800.0</td>\n",
       "      <td>6348100</td>\n",
       "    </tr>\n",
       "  </tbody>\n",
       "</table>\n",
       "</div>"
      ],
      "text/plain": [
       "                   AAPL        IBM        MSFT     GOOG\n",
       "Date                                                   \n",
       "2016-01-27  533478800.0  5026400.0  36775200.0  2194200\n",
       "2016-01-28  222715200.0  3942500.0  62513800.0  2676400\n",
       "2016-01-29  257666000.0  8248100.0  83611700.0  3474300\n",
       "2016-02-01  163774000.0  3574900.0  44208500.0  5139200\n",
       "2016-02-02  149428800.0  3287300.0  56313800.0  6348100"
      ]
     },
     "execution_count": 21,
     "metadata": {},
     "output_type": "execute_result"
    }
   ],
   "source": [
    "volum.head()"
   ]
  },
  {
   "cell_type": "code",
   "execution_count": 23,
   "metadata": {},
   "outputs": [],
   "source": [
    "returns = price.pct_change()"
   ]
  },
  {
   "cell_type": "code",
   "execution_count": 25,
   "metadata": {},
   "outputs": [
    {
     "data": {
      "text/html": [
       "<div>\n",
       "<style scoped>\n",
       "    .dataframe tbody tr th:only-of-type {\n",
       "        vertical-align: middle;\n",
       "    }\n",
       "\n",
       "    .dataframe tbody tr th {\n",
       "        vertical-align: top;\n",
       "    }\n",
       "\n",
       "    .dataframe thead th {\n",
       "        text-align: right;\n",
       "    }\n",
       "</style>\n",
       "<table border=\"1\" class=\"dataframe\">\n",
       "  <thead>\n",
       "    <tr style=\"text-align: right;\">\n",
       "      <th></th>\n",
       "      <th>AAPL</th>\n",
       "      <th>IBM</th>\n",
       "      <th>MSFT</th>\n",
       "      <th>GOOG</th>\n",
       "    </tr>\n",
       "    <tr>\n",
       "      <th>Date</th>\n",
       "      <th></th>\n",
       "      <th></th>\n",
       "      <th></th>\n",
       "      <th></th>\n",
       "    </tr>\n",
       "  </thead>\n",
       "  <tbody>\n",
       "    <tr>\n",
       "      <th>2016-01-27</th>\n",
       "      <td>NaN</td>\n",
       "      <td>NaN</td>\n",
       "      <td>NaN</td>\n",
       "      <td>NaN</td>\n",
       "    </tr>\n",
       "    <tr>\n",
       "      <th>2016-01-28</th>\n",
       "      <td>0.007172</td>\n",
       "      <td>0.010417</td>\n",
       "      <td>0.016400</td>\n",
       "      <td>0.044244</td>\n",
       "    </tr>\n",
       "    <tr>\n",
       "      <th>2016-01-29</th>\n",
       "      <td>0.034541</td>\n",
       "      <td>0.021028</td>\n",
       "      <td>0.058202</td>\n",
       "      <td>0.016403</td>\n",
       "    </tr>\n",
       "    <tr>\n",
       "      <th>2016-02-01</th>\n",
       "      <td>-0.009349</td>\n",
       "      <td>0.000321</td>\n",
       "      <td>-0.006898</td>\n",
       "      <td>0.012181</td>\n",
       "    </tr>\n",
       "    <tr>\n",
       "      <th>2016-02-02</th>\n",
       "      <td>-0.020222</td>\n",
       "      <td>-0.015141</td>\n",
       "      <td>-0.031256</td>\n",
       "      <td>0.016822</td>\n",
       "    </tr>\n",
       "  </tbody>\n",
       "</table>\n",
       "</div>"
      ],
      "text/plain": [
       "                AAPL       IBM      MSFT      GOOG\n",
       "Date                                              \n",
       "2016-01-27       NaN       NaN       NaN       NaN\n",
       "2016-01-28  0.007172  0.010417  0.016400  0.044244\n",
       "2016-01-29  0.034541  0.021028  0.058202  0.016403\n",
       "2016-02-01 -0.009349  0.000321 -0.006898  0.012181\n",
       "2016-02-02 -0.020222 -0.015141 -0.031256  0.016822"
      ]
     },
     "execution_count": 25,
     "metadata": {},
     "output_type": "execute_result"
    }
   ],
   "source": [
    "returns.head()"
   ]
  },
  {
   "cell_type": "code",
   "execution_count": 26,
   "metadata": {},
   "outputs": [
    {
     "data": {
      "text/html": [
       "<div>\n",
       "<style scoped>\n",
       "    .dataframe tbody tr th:only-of-type {\n",
       "        vertical-align: middle;\n",
       "    }\n",
       "\n",
       "    .dataframe tbody tr th {\n",
       "        vertical-align: top;\n",
       "    }\n",
       "\n",
       "    .dataframe thead th {\n",
       "        text-align: right;\n",
       "    }\n",
       "</style>\n",
       "<table border=\"1\" class=\"dataframe\">\n",
       "  <thead>\n",
       "    <tr style=\"text-align: right;\">\n",
       "      <th></th>\n",
       "      <th>AAPL</th>\n",
       "      <th>IBM</th>\n",
       "      <th>MSFT</th>\n",
       "      <th>GOOG</th>\n",
       "    </tr>\n",
       "  </thead>\n",
       "  <tbody>\n",
       "    <tr>\n",
       "      <th>AAPL</th>\n",
       "      <td>1.000000</td>\n",
       "      <td>0.454506</td>\n",
       "      <td>0.713342</td>\n",
       "      <td>0.653832</td>\n",
       "    </tr>\n",
       "    <tr>\n",
       "      <th>IBM</th>\n",
       "      <td>0.454506</td>\n",
       "      <td>1.000000</td>\n",
       "      <td>0.540598</td>\n",
       "      <td>0.504335</td>\n",
       "    </tr>\n",
       "    <tr>\n",
       "      <th>MSFT</th>\n",
       "      <td>0.713342</td>\n",
       "      <td>0.540598</td>\n",
       "      <td>1.000000</td>\n",
       "      <td>0.778145</td>\n",
       "    </tr>\n",
       "    <tr>\n",
       "      <th>GOOG</th>\n",
       "      <td>0.653832</td>\n",
       "      <td>0.504335</td>\n",
       "      <td>0.778145</td>\n",
       "      <td>1.000000</td>\n",
       "    </tr>\n",
       "  </tbody>\n",
       "</table>\n",
       "</div>"
      ],
      "text/plain": [
       "          AAPL       IBM      MSFT      GOOG\n",
       "AAPL  1.000000  0.454506  0.713342  0.653832\n",
       "IBM   0.454506  1.000000  0.540598  0.504335\n",
       "MSFT  0.713342  0.540598  1.000000  0.778145\n",
       "GOOG  0.653832  0.504335  0.778145  1.000000"
      ]
     },
     "execution_count": 26,
     "metadata": {},
     "output_type": "execute_result"
    }
   ],
   "source": [
    "returns.corr()"
   ]
  },
  {
   "cell_type": "code",
   "execution_count": 28,
   "metadata": {},
   "outputs": [
    {
     "data": {
      "text/plain": [
       "0.4545062793891152"
      ]
     },
     "execution_count": 28,
     "metadata": {},
     "output_type": "execute_result"
    }
   ],
   "source": [
    "returns['AAPL'].corr(returns['IBM'])"
   ]
  },
  {
   "cell_type": "code",
   "execution_count": 29,
   "metadata": {},
   "outputs": [
    {
     "data": {
      "text/plain": [
       "0.6538323113958822"
      ]
     },
     "execution_count": 29,
     "metadata": {},
     "output_type": "execute_result"
    }
   ],
   "source": [
    "returns['AAPL'].corr(returns['GOOG'])"
   ]
  },
  {
   "cell_type": "markdown",
   "metadata": {},
   "source": [
    "Using DataFrame’s corrwith method, you can compute pairwise correlations between a DataFrame’s columns or rows with another Series or DataFrame. Passing a Series returns a Series with the correlation value computed for each column:"
   ]
  },
  {
   "cell_type": "code",
   "execution_count": 30,
   "metadata": {},
   "outputs": [
    {
     "data": {
      "text/plain": [
       "AAPL    0.454506\n",
       "IBM     1.000000\n",
       "MSFT    0.540598\n",
       "GOOG    0.504335\n",
       "dtype: float64"
      ]
     },
     "execution_count": 30,
     "metadata": {},
     "output_type": "execute_result"
    }
   ],
   "source": [
    "returns.corrwith(returns.IBM)"
   ]
  },
  {
   "cell_type": "markdown",
   "metadata": {},
   "source": [
    "<h1>Data Loading, Storage, and File Formats</h1>"
   ]
  },
  {
   "cell_type": "code",
   "execution_count": 31,
   "metadata": {},
   "outputs": [],
   "source": [
    "data = pd.read_csv('data.csv', delimiter=',')"
   ]
  },
  {
   "cell_type": "code",
   "execution_count": 32,
   "metadata": {},
   "outputs": [
    {
     "data": {
      "text/html": [
       "<div>\n",
       "<style scoped>\n",
       "    .dataframe tbody tr th:only-of-type {\n",
       "        vertical-align: middle;\n",
       "    }\n",
       "\n",
       "    .dataframe tbody tr th {\n",
       "        vertical-align: top;\n",
       "    }\n",
       "\n",
       "    .dataframe thead th {\n",
       "        text-align: right;\n",
       "    }\n",
       "</style>\n",
       "<table border=\"1\" class=\"dataframe\">\n",
       "  <thead>\n",
       "    <tr style=\"text-align: right;\">\n",
       "      <th></th>\n",
       "      <th>College</th>\n",
       "      <th>Name</th>\n",
       "      <th>Age</th>\n",
       "      <th>Class</th>\n",
       "    </tr>\n",
       "  </thead>\n",
       "  <tbody>\n",
       "    <tr>\n",
       "      <th>0</th>\n",
       "      <td>GC</td>\n",
       "      <td>Farhhan</td>\n",
       "      <td>23</td>\n",
       "      <td>BS CS</td>\n",
       "    </tr>\n",
       "    <tr>\n",
       "      <th>1</th>\n",
       "      <td>Agri</td>\n",
       "      <td>Umair</td>\n",
       "      <td>25</td>\n",
       "      <td>BS CS</td>\n",
       "    </tr>\n",
       "    <tr>\n",
       "      <th>2</th>\n",
       "      <td>GC</td>\n",
       "      <td>Faraz</td>\n",
       "      <td>22</td>\n",
       "      <td>BS CS</td>\n",
       "    </tr>\n",
       "    <tr>\n",
       "      <th>3</th>\n",
       "      <td>GC LHR</td>\n",
       "      <td>Ahsan</td>\n",
       "      <td>23</td>\n",
       "      <td>BS CS</td>\n",
       "    </tr>\n",
       "    <tr>\n",
       "      <th>4</th>\n",
       "      <td>GC</td>\n",
       "      <td>Waqas</td>\n",
       "      <td>23</td>\n",
       "      <td>BS CS</td>\n",
       "    </tr>\n",
       "  </tbody>\n",
       "</table>\n",
       "</div>"
      ],
      "text/plain": [
       "  College     Name  Age  Class\n",
       "0      GC  Farhhan   23  BS CS\n",
       "1    Agri    Umair   25  BS CS\n",
       "2      GC    Faraz   22  BS CS\n",
       "3  GC LHR    Ahsan   23  BS CS\n",
       "4      GC    Waqas   23  BS CS"
      ]
     },
     "execution_count": 32,
     "metadata": {},
     "output_type": "execute_result"
    }
   ],
   "source": [
    "data"
   ]
  },
  {
   "cell_type": "code",
   "execution_count": 33,
   "metadata": {},
   "outputs": [],
   "source": [
    "data1 = pd.read_excel('data.xls')"
   ]
  },
  {
   "cell_type": "code",
   "execution_count": 34,
   "metadata": {},
   "outputs": [
    {
     "data": {
      "text/html": [
       "<div>\n",
       "<style scoped>\n",
       "    .dataframe tbody tr th:only-of-type {\n",
       "        vertical-align: middle;\n",
       "    }\n",
       "\n",
       "    .dataframe tbody tr th {\n",
       "        vertical-align: top;\n",
       "    }\n",
       "\n",
       "    .dataframe thead th {\n",
       "        text-align: right;\n",
       "    }\n",
       "</style>\n",
       "<table border=\"1\" class=\"dataframe\">\n",
       "  <thead>\n",
       "    <tr style=\"text-align: right;\">\n",
       "      <th></th>\n",
       "      <th>College</th>\n",
       "      <th>Name</th>\n",
       "      <th>Age</th>\n",
       "      <th>Class</th>\n",
       "    </tr>\n",
       "  </thead>\n",
       "  <tbody>\n",
       "    <tr>\n",
       "      <th>0</th>\n",
       "      <td>GC</td>\n",
       "      <td>Farhhan</td>\n",
       "      <td>23</td>\n",
       "      <td>BS CS</td>\n",
       "    </tr>\n",
       "    <tr>\n",
       "      <th>1</th>\n",
       "      <td>Agri</td>\n",
       "      <td>Umair</td>\n",
       "      <td>25</td>\n",
       "      <td>BS CS</td>\n",
       "    </tr>\n",
       "    <tr>\n",
       "      <th>2</th>\n",
       "      <td>GC</td>\n",
       "      <td>Faraz</td>\n",
       "      <td>22</td>\n",
       "      <td>BS CS</td>\n",
       "    </tr>\n",
       "    <tr>\n",
       "      <th>3</th>\n",
       "      <td>GC LHR</td>\n",
       "      <td>Ahsan</td>\n",
       "      <td>23</td>\n",
       "      <td>BS CS</td>\n",
       "    </tr>\n",
       "    <tr>\n",
       "      <th>4</th>\n",
       "      <td>GC</td>\n",
       "      <td>Waqas</td>\n",
       "      <td>23</td>\n",
       "      <td>BS CS</td>\n",
       "    </tr>\n",
       "  </tbody>\n",
       "</table>\n",
       "</div>"
      ],
      "text/plain": [
       "  College     Name  Age  Class\n",
       "0      GC  Farhhan   23  BS CS\n",
       "1    Agri    Umair   25  BS CS\n",
       "2      GC    Faraz   22  BS CS\n",
       "3  GC LHR    Ahsan   23  BS CS\n",
       "4      GC    Waqas   23  BS CS"
      ]
     },
     "execution_count": 34,
     "metadata": {},
     "output_type": "execute_result"
    }
   ],
   "source": [
    "data1"
   ]
  },
  {
   "cell_type": "code",
   "execution_count": 35,
   "metadata": {},
   "outputs": [],
   "source": [
    "df = pd.DataFrame(data)"
   ]
  },
  {
   "cell_type": "code",
   "execution_count": 36,
   "metadata": {},
   "outputs": [
    {
     "data": {
      "text/html": [
       "<div>\n",
       "<style scoped>\n",
       "    .dataframe tbody tr th:only-of-type {\n",
       "        vertical-align: middle;\n",
       "    }\n",
       "\n",
       "    .dataframe tbody tr th {\n",
       "        vertical-align: top;\n",
       "    }\n",
       "\n",
       "    .dataframe thead th {\n",
       "        text-align: right;\n",
       "    }\n",
       "</style>\n",
       "<table border=\"1\" class=\"dataframe\">\n",
       "  <thead>\n",
       "    <tr style=\"text-align: right;\">\n",
       "      <th></th>\n",
       "      <th>College</th>\n",
       "      <th>Name</th>\n",
       "      <th>Age</th>\n",
       "      <th>Class</th>\n",
       "    </tr>\n",
       "  </thead>\n",
       "  <tbody>\n",
       "    <tr>\n",
       "      <th>0</th>\n",
       "      <td>GC</td>\n",
       "      <td>Farhhan</td>\n",
       "      <td>23</td>\n",
       "      <td>BS CS</td>\n",
       "    </tr>\n",
       "    <tr>\n",
       "      <th>1</th>\n",
       "      <td>Agri</td>\n",
       "      <td>Umair</td>\n",
       "      <td>25</td>\n",
       "      <td>BS CS</td>\n",
       "    </tr>\n",
       "    <tr>\n",
       "      <th>2</th>\n",
       "      <td>GC</td>\n",
       "      <td>Faraz</td>\n",
       "      <td>22</td>\n",
       "      <td>BS CS</td>\n",
       "    </tr>\n",
       "    <tr>\n",
       "      <th>3</th>\n",
       "      <td>GC LHR</td>\n",
       "      <td>Ahsan</td>\n",
       "      <td>23</td>\n",
       "      <td>BS CS</td>\n",
       "    </tr>\n",
       "    <tr>\n",
       "      <th>4</th>\n",
       "      <td>GC</td>\n",
       "      <td>Waqas</td>\n",
       "      <td>23</td>\n",
       "      <td>BS CS</td>\n",
       "    </tr>\n",
       "  </tbody>\n",
       "</table>\n",
       "</div>"
      ],
      "text/plain": [
       "  College     Name  Age  Class\n",
       "0      GC  Farhhan   23  BS CS\n",
       "1    Agri    Umair   25  BS CS\n",
       "2      GC    Faraz   22  BS CS\n",
       "3  GC LHR    Ahsan   23  BS CS\n",
       "4      GC    Waqas   23  BS CS"
      ]
     },
     "execution_count": 36,
     "metadata": {},
     "output_type": "execute_result"
    }
   ],
   "source": [
    "df"
   ]
  },
  {
   "cell_type": "code",
   "execution_count": 37,
   "metadata": {},
   "outputs": [],
   "source": [
    "df.to_csv('dt.csv')"
   ]
  },
  {
   "cell_type": "code",
   "execution_count": 38,
   "metadata": {},
   "outputs": [],
   "source": [
    "df.to_json('data.json')"
   ]
  },
  {
   "cell_type": "code",
   "execution_count": null,
   "metadata": {},
   "outputs": [],
   "source": []
  },
  {
   "cell_type": "code",
   "execution_count": null,
   "metadata": {},
   "outputs": [],
   "source": []
  }
 ],
 "metadata": {
  "kernelspec": {
   "display_name": "Python 3",
   "language": "python",
   "name": "python3"
  },
  "language_info": {
   "codemirror_mode": {
    "name": "ipython",
    "version": 3
   },
   "file_extension": ".py",
   "mimetype": "text/x-python",
   "name": "python",
   "nbconvert_exporter": "python",
   "pygments_lexer": "ipython3",
   "version": "3.8.5"
  }
 },
 "nbformat": 4,
 "nbformat_minor": 4
}
